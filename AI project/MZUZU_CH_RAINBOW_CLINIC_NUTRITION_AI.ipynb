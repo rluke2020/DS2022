{
  "nbformat": 4,
  "nbformat_minor": 0,
  "metadata": {
    "colab": {
      "name": "MZUZU CH RAINBOW CLINIC NUTRITION AI",
      "provenance": [],
      "collapsed_sections": []
    },
    "kernelspec": {
      "name": "python3",
      "display_name": "Python 3"
    },
    "language_info": {
      "name": "python"
    }
  },
  "cells": [
    {
      "cell_type": "markdown",
      "source": [
        "# **NUTRITION STATUS AI PROJECT**\n",
        "\n",
        "This project is aimed to predict Nutrition Status i.e. malnourished or health at Mzuzu Central Hospital Rainbow Clinic by classifying Patients on ART as either Manurished or Healthy using age, sex, weight and height.\n",
        "\n",
        "***Richard Luke***\n",
        "\n",
        "*29/06/2022*"
      ],
      "metadata": {
        "id": "1cEsnMycZ5Xn"
      }
    },
    {
      "cell_type": "code",
      "execution_count": 1,
      "metadata": {
        "id": "GIKGnFuMI1By"
      },
      "outputs": [],
      "source": [
        "#Loading libraries \n",
        "import pandas as pd\n",
        "from sklearn.model_selection import train_test_split\n",
        "import tensorflow as tf\n",
        "\n",
        "#loading data\n",
        "df = pd.read_csv(\"BMI.csv\")"
      ]
    },
    {
      "cell_type": "code",
      "source": [
        "#drop BMI column\n",
        "df=df.drop(columns=[\"BMI\"])\n",
        "\n",
        "#x attribute\n",
        "x = df.drop(columns=[\"Status\"])"
      ],
      "metadata": {
        "id": "8sO0P4_fJCBT"
      },
      "execution_count": 2,
      "outputs": []
    },
    {
      "cell_type": "code",
      "source": [
        "#y attribute\n",
        "y = df[\"Status\"]"
      ],
      "metadata": {
        "id": "arQaW7N7Ompr"
      },
      "execution_count": 3,
      "outputs": []
    },
    {
      "cell_type": "code",
      "source": [
        "#splitting the df to train and test data, am testing 25% of the data\n",
        "x_train, x_test, y_train, y_test = train_test_split(x, y, test_size=0.25)"
      ],
      "metadata": {
        "id": "_CuXQ0O5Oz3a"
      },
      "execution_count": 4,
      "outputs": []
    },
    {
      "cell_type": "code",
      "source": [
        "# building the model\n",
        "model = tf.keras.models.Sequential()\n",
        "model.add(tf.keras.layers.Dense(256, input_shape=x_train.shape[1:], activation = \"sigmoid\"))\n",
        "model.add(tf.keras.layers.Dense(256, activation=\"sigmoid\"))\n",
        "model.add(tf.keras.layers.Dense(1,  activation=\"sigmoid\"))\n",
        "model.compile(loss=tf.keras.losses.BinaryCrossentropy(), optimizer=\"adam\",metrics=[\"accuracy\"])"
      ],
      "metadata": {
        "id": "ej1CERRHQg-4"
      },
      "execution_count": 5,
      "outputs": []
    },
    {
      "cell_type": "code",
      "source": [
        "#fitting the model\n",
        "model.fit(x_train, y_train, epochs=100)"
      ],
      "metadata": {
        "colab": {
          "base_uri": "https://localhost:8080/"
        },
        "id": "HfbKQUGRSuJh",
        "outputId": "c5cf0afc-6808-45d5-f388-ce0f74ae0379"
      },
      "execution_count": 6,
      "outputs": [
        {
          "output_type": "stream",
          "name": "stdout",
          "text": [
            "Epoch 1/100\n",
            "279/279 [==============================] - 1s 2ms/step - loss: 0.2386 - accuracy: 0.8920\n",
            "Epoch 2/100\n",
            "279/279 [==============================] - 1s 2ms/step - loss: 0.1748 - accuracy: 0.9235\n",
            "Epoch 3/100\n",
            "279/279 [==============================] - 1s 3ms/step - loss: 0.1519 - accuracy: 0.9334\n",
            "Epoch 4/100\n",
            "279/279 [==============================] - 1s 3ms/step - loss: 0.1347 - accuracy: 0.9404\n",
            "Epoch 5/100\n",
            "279/279 [==============================] - 1s 4ms/step - loss: 0.1228 - accuracy: 0.9465\n",
            "Epoch 6/100\n",
            "279/279 [==============================] - 1s 4ms/step - loss: 0.1205 - accuracy: 0.9472\n",
            "Epoch 7/100\n",
            "279/279 [==============================] - 1s 3ms/step - loss: 0.1168 - accuracy: 0.9483\n",
            "Epoch 8/100\n",
            "279/279 [==============================] - 1s 4ms/step - loss: 0.1239 - accuracy: 0.9448\n",
            "Epoch 9/100\n",
            "279/279 [==============================] - 1s 4ms/step - loss: 0.1078 - accuracy: 0.9536\n",
            "Epoch 10/100\n",
            "279/279 [==============================] - 1s 4ms/step - loss: 0.1184 - accuracy: 0.9498\n",
            "Epoch 11/100\n",
            "279/279 [==============================] - 1s 4ms/step - loss: 0.1033 - accuracy: 0.9571\n",
            "Epoch 12/100\n",
            "279/279 [==============================] - 1s 4ms/step - loss: 0.1045 - accuracy: 0.9549\n",
            "Epoch 13/100\n",
            "279/279 [==============================] - 1s 4ms/step - loss: 0.1106 - accuracy: 0.9501\n",
            "Epoch 14/100\n",
            "279/279 [==============================] - 1s 4ms/step - loss: 0.0964 - accuracy: 0.9577\n",
            "Epoch 15/100\n",
            "279/279 [==============================] - 1s 4ms/step - loss: 0.0989 - accuracy: 0.9574\n",
            "Epoch 16/100\n",
            "279/279 [==============================] - 1s 5ms/step - loss: 0.1030 - accuracy: 0.9546\n",
            "Epoch 17/100\n",
            "279/279 [==============================] - 1s 5ms/step - loss: 0.1112 - accuracy: 0.9534\n",
            "Epoch 18/100\n",
            "279/279 [==============================] - 1s 5ms/step - loss: 0.0862 - accuracy: 0.9638\n",
            "Epoch 19/100\n",
            "279/279 [==============================] - 1s 4ms/step - loss: 0.1023 - accuracy: 0.9571\n",
            "Epoch 20/100\n",
            "279/279 [==============================] - 1s 3ms/step - loss: 0.0896 - accuracy: 0.9607\n",
            "Epoch 21/100\n",
            "279/279 [==============================] - 1s 5ms/step - loss: 0.0889 - accuracy: 0.9633\n",
            "Epoch 22/100\n",
            "279/279 [==============================] - 1s 3ms/step - loss: 0.1063 - accuracy: 0.9540\n",
            "Epoch 23/100\n",
            "279/279 [==============================] - 1s 2ms/step - loss: 0.0924 - accuracy: 0.9586\n",
            "Epoch 24/100\n",
            "279/279 [==============================] - 1s 2ms/step - loss: 0.0935 - accuracy: 0.9586\n",
            "Epoch 25/100\n",
            "279/279 [==============================] - 1s 2ms/step - loss: 0.0836 - accuracy: 0.9657\n",
            "Epoch 26/100\n",
            "279/279 [==============================] - 1s 2ms/step - loss: 0.0843 - accuracy: 0.9640\n",
            "Epoch 27/100\n",
            "279/279 [==============================] - 1s 2ms/step - loss: 0.0926 - accuracy: 0.9607\n",
            "Epoch 28/100\n",
            "279/279 [==============================] - 1s 2ms/step - loss: 0.0894 - accuracy: 0.9632\n",
            "Epoch 29/100\n",
            "279/279 [==============================] - 1s 2ms/step - loss: 0.0933 - accuracy: 0.9615\n",
            "Epoch 30/100\n",
            "279/279 [==============================] - 1s 2ms/step - loss: 0.0797 - accuracy: 0.9663\n",
            "Epoch 31/100\n",
            "279/279 [==============================] - 1s 2ms/step - loss: 0.0840 - accuracy: 0.9646\n",
            "Epoch 32/100\n",
            "279/279 [==============================] - 1s 2ms/step - loss: 0.0754 - accuracy: 0.9683\n",
            "Epoch 33/100\n",
            "279/279 [==============================] - 1s 2ms/step - loss: 0.0819 - accuracy: 0.9661\n",
            "Epoch 34/100\n",
            "279/279 [==============================] - 1s 2ms/step - loss: 0.0836 - accuracy: 0.9654\n",
            "Epoch 35/100\n",
            "279/279 [==============================] - 1s 2ms/step - loss: 0.0835 - accuracy: 0.9629\n",
            "Epoch 36/100\n",
            "279/279 [==============================] - 1s 2ms/step - loss: 0.0803 - accuracy: 0.9656\n",
            "Epoch 37/100\n",
            "279/279 [==============================] - 1s 2ms/step - loss: 0.0927 - accuracy: 0.9595\n",
            "Epoch 38/100\n",
            "279/279 [==============================] - 1s 2ms/step - loss: 0.0761 - accuracy: 0.9670\n",
            "Epoch 39/100\n",
            "279/279 [==============================] - 1s 2ms/step - loss: 0.0721 - accuracy: 0.9698\n",
            "Epoch 40/100\n",
            "279/279 [==============================] - 1s 2ms/step - loss: 0.0766 - accuracy: 0.9674\n",
            "Epoch 41/100\n",
            "279/279 [==============================] - 1s 2ms/step - loss: 0.0813 - accuracy: 0.9646\n",
            "Epoch 42/100\n",
            "279/279 [==============================] - 1s 2ms/step - loss: 0.0879 - accuracy: 0.9610\n",
            "Epoch 43/100\n",
            "279/279 [==============================] - 1s 2ms/step - loss: 0.0732 - accuracy: 0.9686\n",
            "Epoch 44/100\n",
            "279/279 [==============================] - 1s 2ms/step - loss: 0.0798 - accuracy: 0.9655\n",
            "Epoch 45/100\n",
            "279/279 [==============================] - 1s 2ms/step - loss: 0.0812 - accuracy: 0.9628\n",
            "Epoch 46/100\n",
            "279/279 [==============================] - 1s 2ms/step - loss: 0.0739 - accuracy: 0.9701\n",
            "Epoch 47/100\n",
            "279/279 [==============================] - 1s 2ms/step - loss: 0.0740 - accuracy: 0.9682\n",
            "Epoch 48/100\n",
            "279/279 [==============================] - 1s 2ms/step - loss: 0.0716 - accuracy: 0.9700\n",
            "Epoch 49/100\n",
            "279/279 [==============================] - 1s 2ms/step - loss: 0.0699 - accuracy: 0.9692\n",
            "Epoch 50/100\n",
            "279/279 [==============================] - 1s 2ms/step - loss: 0.0781 - accuracy: 0.9674\n",
            "Epoch 51/100\n",
            "279/279 [==============================] - 1s 2ms/step - loss: 0.0745 - accuracy: 0.9700\n",
            "Epoch 52/100\n",
            "279/279 [==============================] - 1s 2ms/step - loss: 0.0770 - accuracy: 0.9662\n",
            "Epoch 53/100\n",
            "279/279 [==============================] - 1s 2ms/step - loss: 0.0719 - accuracy: 0.9678\n",
            "Epoch 54/100\n",
            "279/279 [==============================] - 1s 2ms/step - loss: 0.0718 - accuracy: 0.9702\n",
            "Epoch 55/100\n",
            "279/279 [==============================] - 1s 2ms/step - loss: 0.0760 - accuracy: 0.9668\n",
            "Epoch 56/100\n",
            "279/279 [==============================] - 1s 2ms/step - loss: 0.0774 - accuracy: 0.9680\n",
            "Epoch 57/100\n",
            "279/279 [==============================] - 1s 2ms/step - loss: 0.0705 - accuracy: 0.9707\n",
            "Epoch 58/100\n",
            "279/279 [==============================] - 1s 2ms/step - loss: 0.0712 - accuracy: 0.9713\n",
            "Epoch 59/100\n",
            "279/279 [==============================] - 1s 2ms/step - loss: 0.0695 - accuracy: 0.9715\n",
            "Epoch 60/100\n",
            "279/279 [==============================] - 1s 2ms/step - loss: 0.0659 - accuracy: 0.9715\n",
            "Epoch 61/100\n",
            "279/279 [==============================] - 1s 2ms/step - loss: 0.0797 - accuracy: 0.9661\n",
            "Epoch 62/100\n",
            "279/279 [==============================] - 1s 2ms/step - loss: 0.0647 - accuracy: 0.9711\n",
            "Epoch 63/100\n",
            "279/279 [==============================] - 1s 2ms/step - loss: 0.0799 - accuracy: 0.9654\n",
            "Epoch 64/100\n",
            "279/279 [==============================] - 1s 2ms/step - loss: 0.0656 - accuracy: 0.9710\n",
            "Epoch 65/100\n",
            "279/279 [==============================] - 1s 2ms/step - loss: 0.0750 - accuracy: 0.9671\n",
            "Epoch 66/100\n",
            "279/279 [==============================] - 1s 2ms/step - loss: 0.0712 - accuracy: 0.9693\n",
            "Epoch 67/100\n",
            "279/279 [==============================] - 1s 2ms/step - loss: 0.0684 - accuracy: 0.9691\n",
            "Epoch 68/100\n",
            "279/279 [==============================] - 1s 2ms/step - loss: 0.0747 - accuracy: 0.9678\n",
            "Epoch 69/100\n",
            "279/279 [==============================] - 1s 2ms/step - loss: 0.0734 - accuracy: 0.9689\n",
            "Epoch 70/100\n",
            "279/279 [==============================] - 1s 2ms/step - loss: 0.0756 - accuracy: 0.9671\n",
            "Epoch 71/100\n",
            "279/279 [==============================] - 1s 2ms/step - loss: 0.0606 - accuracy: 0.9752\n",
            "Epoch 72/100\n",
            "279/279 [==============================] - 1s 2ms/step - loss: 0.0675 - accuracy: 0.9715\n",
            "Epoch 73/100\n",
            "279/279 [==============================] - 1s 2ms/step - loss: 0.0763 - accuracy: 0.9654\n",
            "Epoch 74/100\n",
            "279/279 [==============================] - 1s 2ms/step - loss: 0.0640 - accuracy: 0.9737\n",
            "Epoch 75/100\n",
            "279/279 [==============================] - 1s 2ms/step - loss: 0.0782 - accuracy: 0.9663\n",
            "Epoch 76/100\n",
            "279/279 [==============================] - 1s 2ms/step - loss: 0.0675 - accuracy: 0.9713\n",
            "Epoch 77/100\n",
            "279/279 [==============================] - 1s 2ms/step - loss: 0.0664 - accuracy: 0.9737\n",
            "Epoch 78/100\n",
            "279/279 [==============================] - 1s 2ms/step - loss: 0.0673 - accuracy: 0.9692\n",
            "Epoch 79/100\n",
            "279/279 [==============================] - 1s 2ms/step - loss: 0.0734 - accuracy: 0.9682\n",
            "Epoch 80/100\n",
            "279/279 [==============================] - 1s 2ms/step - loss: 0.0715 - accuracy: 0.9697\n",
            "Epoch 81/100\n",
            "279/279 [==============================] - 1s 2ms/step - loss: 0.0611 - accuracy: 0.9763\n",
            "Epoch 82/100\n",
            "279/279 [==============================] - 1s 2ms/step - loss: 0.0816 - accuracy: 0.9650\n",
            "Epoch 83/100\n",
            "279/279 [==============================] - 1s 2ms/step - loss: 0.0635 - accuracy: 0.9735\n",
            "Epoch 84/100\n",
            "279/279 [==============================] - 1s 2ms/step - loss: 0.0735 - accuracy: 0.9692\n",
            "Epoch 85/100\n",
            "279/279 [==============================] - 1s 2ms/step - loss: 0.0606 - accuracy: 0.9746\n",
            "Epoch 86/100\n",
            "279/279 [==============================] - 1s 2ms/step - loss: 0.0668 - accuracy: 0.9714\n",
            "Epoch 87/100\n",
            "279/279 [==============================] - 1s 2ms/step - loss: 0.0865 - accuracy: 0.9632\n",
            "Epoch 88/100\n",
            "279/279 [==============================] - 1s 2ms/step - loss: 0.0761 - accuracy: 0.9671\n",
            "Epoch 89/100\n",
            "279/279 [==============================] - 1s 2ms/step - loss: 0.0611 - accuracy: 0.9736\n",
            "Epoch 90/100\n",
            "279/279 [==============================] - 1s 2ms/step - loss: 0.0688 - accuracy: 0.9705\n",
            "Epoch 91/100\n",
            "279/279 [==============================] - 1s 2ms/step - loss: 0.0657 - accuracy: 0.9715\n",
            "Epoch 92/100\n",
            "279/279 [==============================] - 1s 2ms/step - loss: 0.0634 - accuracy: 0.9742\n",
            "Epoch 93/100\n",
            "279/279 [==============================] - 1s 2ms/step - loss: 0.0730 - accuracy: 0.9695\n",
            "Epoch 94/100\n",
            "279/279 [==============================] - 1s 2ms/step - loss: 0.0609 - accuracy: 0.9743\n",
            "Epoch 95/100\n",
            "279/279 [==============================] - 1s 2ms/step - loss: 0.0607 - accuracy: 0.9737\n",
            "Epoch 96/100\n",
            "279/279 [==============================] - 1s 2ms/step - loss: 0.0709 - accuracy: 0.9682\n",
            "Epoch 97/100\n",
            "279/279 [==============================] - 1s 2ms/step - loss: 0.0596 - accuracy: 0.9737\n",
            "Epoch 98/100\n",
            "279/279 [==============================] - 1s 2ms/step - loss: 0.0646 - accuracy: 0.9724\n",
            "Epoch 99/100\n",
            "279/279 [==============================] - 1s 2ms/step - loss: 0.0583 - accuracy: 0.9733\n",
            "Epoch 100/100\n",
            "279/279 [==============================] - 1s 2ms/step - loss: 0.0781 - accuracy: 0.9693\n"
          ]
        },
        {
          "output_type": "execute_result",
          "data": {
            "text/plain": [
              "<keras.callbacks.History at 0x7ff6b0d59f90>"
            ]
          },
          "metadata": {},
          "execution_count": 6
        }
      ]
    },
    {
      "cell_type": "code",
      "source": [
        "# Evaluating the model\n",
        "model.evaluate(x_test,y_test)"
      ],
      "metadata": {
        "colab": {
          "base_uri": "https://localhost:8080/"
        },
        "id": "btW0fIXuYScU",
        "outputId": "b3cf5eb9-87d0-430a-9c7e-b4abc91af035"
      },
      "execution_count": 7,
      "outputs": [
        {
          "output_type": "stream",
          "name": "stdout",
          "text": [
            "93/93 [==============================] - 0s 1ms/step - loss: 0.0587 - accuracy: 0.9795\n"
          ]
        },
        {
          "output_type": "execute_result",
          "data": {
            "text/plain": [
              "[0.05871463939547539, 0.9794543385505676]"
            ]
          },
          "metadata": {},
          "execution_count": 7
        }
      ]
    },
    {
      "cell_type": "code",
      "source": [
        "# Deploying the model\n"
      ],
      "metadata": {
        "id": "dgU1vfOnYeNF"
      },
      "execution_count": 8,
      "outputs": []
    }
  ]
}