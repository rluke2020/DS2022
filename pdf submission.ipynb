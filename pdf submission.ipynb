{
 "cells": [
  {
   "cell_type": "markdown",
   "id": "f80e5e72",
   "metadata": {},
   "source": [
    "# Web Scrapping Classwork\n",
    "\n",
    "The purpose is to scrap all the pages returned with the entered keyword on pdfdrive  \n",
    "\n",
    "Richard Luke, 2022/06/05"
   ]
  },
  {
   "cell_type": "code",
   "execution_count": 1,
   "id": "3f289e11",
   "metadata": {},
   "outputs": [],
   "source": [
    "#importing libraries to use for scrapping\n",
    "import requests\n",
    "from bs4 import BeautifulSoup\n",
    "from time import sleep\n",
    "import pandas as pd\n",
    "import matplotlib.pyplot as plt\n",
    "%matplotlib inline\n",
    "\n",
    "#for ML\n",
    "from sklearn import preprocessing\n",
    "from sklearn.linear_model import LogisticRegression\n",
    "from sklearn.model_selection import train_test_split"
   ]
  },
  {
   "cell_type": "code",
   "execution_count": 2,
   "id": "54ee010b",
   "metadata": {},
   "outputs": [
    {
     "name": "stdout",
     "output_type": "stream",
     "text": [
      "Enter the Book Category to Search : python programming\n",
      "Failed to append\n",
      "Search returned nothing!\n",
      "Failed to append\n",
      "Search returned nothing!\n",
      "Failed to append\n",
      "Search returned nothing!\n",
      "Failed to append\n",
      "Search returned nothing!\n",
      "Failed to append\n",
      "Search returned nothing!\n"
     ]
    },
    {
     "name": "stderr",
     "output_type": "stream",
     "text": [
      "Some characters could not be decoded, and were replaced with REPLACEMENT CHARACTER.\n"
     ]
    },
    {
     "name": "stdout",
     "output_type": "stream",
     "text": [
      "Failed to append\n",
      "Search returned nothing!\n",
      "Failed to append\n",
      "Search returned nothing!\n",
      "Search returned nothing!\n",
      "Failed to append\n",
      "Search returned nothing!\n",
      "Failed to append\n",
      "Search returned nothing!\n",
      "Failed to append\n",
      "Search returned nothing!\n",
      "Failed to append\n",
      "Search returned nothing!\n",
      "Failed to append\n",
      "Search returned nothing!\n",
      "Failed to append\n",
      "Search returned nothing!\n",
      "Failed to append\n",
      "Search returned nothing!\n",
      "Failed to append\n",
      "Search returned nothing!\n",
      "Failed to append\n",
      "Search returned nothing!\n",
      "Failed to append\n",
      "Search returned nothing!\n",
      "Failed to append\n",
      "Search returned nothing!\n",
      "Failed to append\n",
      "Search returned nothing!\n"
     ]
    },
    {
     "name": "stderr",
     "output_type": "stream",
     "text": [
      "Some characters could not be decoded, and were replaced with REPLACEMENT CHARACTER.\n"
     ]
    }
   ],
   "source": [
    "#function to start a search\n",
    "search=input(\"Enter the Book Category to Search : \")\n",
    "def load(search,number):\n",
    "    try:\n",
    "        # + str(page_num)\n",
    "        URL = f\"https://www.pdfdrive.com/search?q={search}&page={number}\"\n",
    "    except:\n",
    "        print(\"SORRY! Category not found.\")\n",
    "    page = requests.get(URL)\n",
    "    soup = BeautifulSoup(page.content, \"html.parser\")\n",
    "\n",
    "    return soup\n",
    "\n",
    "def getdata():\n",
    "    titles = []\n",
    "    pages = []\n",
    "    year = []\n",
    "    size = []\n",
    "    downloads = []\n",
    "    \n",
    "    try:\n",
    "        for result in soup.find_all('div', attrs={'class': 'file-right'}):\n",
    "            title = result.find(\"h2\").text\n",
    "            titles.append(title)\n",
    "\n",
    "        for pag in soup.find_all('div', attrs={'class': 'file-info'}):\n",
    "            page = pag.find(\"span\", class_=\"fi-pagecount\").text\n",
    "            years = pag.find(\"span\", class_=\"fi-year\").text\n",
    "            file_size = pag.find(\"span\", class_=\"fi-size hidemobile\").text\n",
    "            down = pag.find(\"span\", class_=\"fi-hit\").text\n",
    "            pages.append(page)\n",
    "            year.append(years)\n",
    "            size.append(file_size)\n",
    "            downloads.append(down)\n",
    "\n",
    "        my_scrapper = {\"Book Name\": titles,\n",
    "                    \"No of Pages\": pages,\n",
    "                    \"Year\": year,\n",
    "                     \"FILE SIZE (MB)\": size,\n",
    "                     \"DOWNLOADS (Count)\": downloads\n",
    "                    }\n",
    "        df = pd.DataFrame(my_scrapper)\n",
    "        df.to_csv('/Users/Richard/Downloads/PDFdrive list.csv', mode='a', header=False,index=False)\n",
    "        return df\n",
    "    except:\n",
    "        print(\"Failed to append\")\n",
    "\n",
    "\n",
    "def appenddata(df):\n",
    "    try:\n",
    "              # split \n",
    "        df[[\"Number.Pages\", \"Pages\"]]=df[\"No of Pages\"].str.split(expand=True)\n",
    "        df[[\"Number.Fsize\", \"File Size\"]]=df[\"FILE SIZE (MB)\"].str.split(expand=True)\n",
    "        df[[\"Number.Downloads\", \"Downloads\"]]=df[\"DOWNLOADS (Count)\"].str.split(expand=True)\n",
    "        # prepare string data type for conversion to int\n",
    "        df['Number.Downloads']=df['Number.Downloads'].str.replace(',','')\n",
    "        df[\"Number.Pages\"]=df[\"Number.Pages\"].str.replace(',','')\n",
    "        # drop\n",
    "        del df[\"No of Pages\"]\n",
    "        del df[\"FILE SIZE (MB)\"]\n",
    "        del df[\"DOWNLOADS (Count)\"]\n",
    "\n",
    "        #save\n",
    "        df.to_csv('/Users/Richard/Downloads/PDFdrive cleaned list.csv',mode='a', index=False)\n",
    "\n",
    "    except:\n",
    "        print('Search returned nothing!')\n",
    "        \n",
    "    return df\n",
    "\n",
    "def cleandata():\n",
    "    data=pd.read_csv('/Users/Richard/Downloads/PDFdrive cleaned list.csv')\n",
    "    #remove strings\n",
    "    try:\n",
    "         data = data[data[\"Number.Fsize\"].str.contains(\"Pages|Number.Downloads|Number.Fsize\") == False]\n",
    "    except:\n",
    "        pass\n",
    "    # change data type\n",
    "    data[\"Number.Pages\"]=data[\"Number.Pages\"].astype(str).astype(int)\n",
    "    data[\"Year\"]=data[\"Year\"].astype(str).astype(int)\n",
    "    data['Number.Downloads']=data['Number.Downloads'].astype(str).astype(int)\n",
    "    data[\"Number.Fsize\"]=data[\"Number.Fsize\"].astype(str).astype(float)\n",
    "    #save to df\n",
    "    return data\n",
    "number = 1\n",
    "while True:\n",
    "    if number != 50:\n",
    "        soup=load(search,str(number))\n",
    "        sleep(20)\n",
    "        df=getdata()\n",
    "        sleep(4)\n",
    "        df=appenddata(df)\n",
    "        #sleep()\n",
    "    else:\n",
    "        break\n",
    "    number= number+1"
   ]
  },
  {
   "cell_type": "code",
   "execution_count": 3,
   "id": "f897a8d0",
   "metadata": {},
   "outputs": [
    {
     "data": {
      "text/html": [
       "<div>\n",
       "<style scoped>\n",
       "    .dataframe tbody tr th:only-of-type {\n",
       "        vertical-align: middle;\n",
       "    }\n",
       "\n",
       "    .dataframe tbody tr th {\n",
       "        vertical-align: top;\n",
       "    }\n",
       "\n",
       "    .dataframe thead th {\n",
       "        text-align: right;\n",
       "    }\n",
       "</style>\n",
       "<table border=\"1\" class=\"dataframe\">\n",
       "  <thead>\n",
       "    <tr style=\"text-align: right;\">\n",
       "      <th></th>\n",
       "      <th>Book Name</th>\n",
       "      <th>Year</th>\n",
       "      <th>Number.Pages</th>\n",
       "      <th>Pages</th>\n",
       "      <th>Number.Fsize</th>\n",
       "      <th>File Size</th>\n",
       "      <th>Number.Downloads</th>\n",
       "      <th>Downloads</th>\n",
       "    </tr>\n",
       "  </thead>\n",
       "  <tbody>\n",
       "    <tr>\n",
       "      <th>0</th>\n",
       "      <td>Beginning Programming with Python For Dummies</td>\n",
       "      <td>2014</td>\n",
       "      <td>411</td>\n",
       "      <td>Pages</td>\n",
       "      <td>10.78</td>\n",
       "      <td>MB</td>\n",
       "      <td>59775</td>\n",
       "      <td>Downloads</td>\n",
       "    </tr>\n",
       "    <tr>\n",
       "      <th>1</th>\n",
       "      <td>Python 3 MCQ - Multiple Choice Questions n Ans...</td>\n",
       "      <td>2016</td>\n",
       "      <td>225</td>\n",
       "      <td>Pages</td>\n",
       "      <td>637.00</td>\n",
       "      <td>KB</td>\n",
       "      <td>11344</td>\n",
       "      <td>Downloads</td>\n",
       "    </tr>\n",
       "    <tr>\n",
       "      <th>2</th>\n",
       "      <td>Python Programming: An In-Depth Guide Into The...</td>\n",
       "      <td>2017</td>\n",
       "      <td>121</td>\n",
       "      <td>Pages</td>\n",
       "      <td>776.00</td>\n",
       "      <td>KB</td>\n",
       "      <td>6025</td>\n",
       "      <td>Downloads</td>\n",
       "    </tr>\n",
       "    <tr>\n",
       "      <th>3</th>\n",
       "      <td>Programming with MicroPython: Embedded Program...</td>\n",
       "      <td>2017</td>\n",
       "      <td>210</td>\n",
       "      <td>Pages</td>\n",
       "      <td>17.14</td>\n",
       "      <td>MB</td>\n",
       "      <td>19048</td>\n",
       "      <td>Downloads</td>\n",
       "    </tr>\n",
       "    <tr>\n",
       "      <th>4</th>\n",
       "      <td>Python and Tkinter Programming</td>\n",
       "      <td>2005</td>\n",
       "      <td>684</td>\n",
       "      <td>Pages</td>\n",
       "      <td>8.97</td>\n",
       "      <td>MB</td>\n",
       "      <td>48914</td>\n",
       "      <td>Downloads</td>\n",
       "    </tr>\n",
       "  </tbody>\n",
       "</table>\n",
       "</div>"
      ],
      "text/plain": [
       "                                           Book Name  Year  Number.Pages  \\\n",
       "0      Beginning Programming with Python For Dummies  2014           411   \n",
       "1  Python 3 MCQ - Multiple Choice Questions n Ans...  2016           225   \n",
       "2  Python Programming: An In-Depth Guide Into The...  2017           121   \n",
       "3  Programming with MicroPython: Embedded Program...  2017           210   \n",
       "4                     Python and Tkinter Programming  2005           684   \n",
       "\n",
       "   Pages  Number.Fsize File Size  Number.Downloads  Downloads  \n",
       "0  Pages         10.78        MB             59775  Downloads  \n",
       "1  Pages        637.00        KB             11344  Downloads  \n",
       "2  Pages        776.00        KB              6025  Downloads  \n",
       "3  Pages         17.14        MB             19048  Downloads  \n",
       "4  Pages          8.97        MB             48914  Downloads  "
      ]
     },
     "execution_count": 3,
     "metadata": {},
     "output_type": "execute_result"
    }
   ],
   "source": [
    "data=cleandata()\n",
    "data.head()"
   ]
  },
  {
   "cell_type": "code",
   "execution_count": 4,
   "id": "44d5edb5",
   "metadata": {},
   "outputs": [
    {
     "name": "stdout",
     "output_type": "stream",
     "text": [
      "<class 'pandas.core.frame.DataFrame'>\n",
      "Int64Index: 508 entries, 0 to 535\n",
      "Data columns (total 8 columns):\n",
      " #   Column            Non-Null Count  Dtype  \n",
      "---  ------            --------------  -----  \n",
      " 0   Book Name         508 non-null    object \n",
      " 1   Year              508 non-null    int32  \n",
      " 2   Number.Pages      508 non-null    int32  \n",
      " 3   Pages             508 non-null    object \n",
      " 4   Number.Fsize      508 non-null    float64\n",
      " 5   File Size         508 non-null    object \n",
      " 6   Number.Downloads  508 non-null    int32  \n",
      " 7   Downloads         508 non-null    object \n",
      "dtypes: float64(1), int32(3), object(4)\n",
      "memory usage: 29.8+ KB\n"
     ]
    }
   ],
   "source": [
    "data.info()"
   ]
  },
  {
   "cell_type": "code",
   "execution_count": 5,
   "id": "ef474b3f",
   "metadata": {},
   "outputs": [
    {
     "data": {
      "text/html": [
       "<div>\n",
       "<style scoped>\n",
       "    .dataframe tbody tr th:only-of-type {\n",
       "        vertical-align: middle;\n",
       "    }\n",
       "\n",
       "    .dataframe tbody tr th {\n",
       "        vertical-align: top;\n",
       "    }\n",
       "\n",
       "    .dataframe thead th {\n",
       "        text-align: right;\n",
       "    }\n",
       "</style>\n",
       "<table border=\"1\" class=\"dataframe\">\n",
       "  <thead>\n",
       "    <tr style=\"text-align: right;\">\n",
       "      <th></th>\n",
       "      <th>Year</th>\n",
       "      <th>Number.Pages</th>\n",
       "      <th>Number.Fsize</th>\n",
       "      <th>Number.Downloads</th>\n",
       "    </tr>\n",
       "  </thead>\n",
       "  <tbody>\n",
       "    <tr>\n",
       "      <th>count</th>\n",
       "      <td>508.0</td>\n",
       "      <td>508.0</td>\n",
       "      <td>508.0</td>\n",
       "      <td>508.0</td>\n",
       "    </tr>\n",
       "    <tr>\n",
       "      <th>mean</th>\n",
       "      <td>2013.4</td>\n",
       "      <td>419.3</td>\n",
       "      <td>53.4</td>\n",
       "      <td>4350.7</td>\n",
       "    </tr>\n",
       "    <tr>\n",
       "      <th>std</th>\n",
       "      <td>4.0</td>\n",
       "      <td>294.2</td>\n",
       "      <td>166.3</td>\n",
       "      <td>9279.7</td>\n",
       "    </tr>\n",
       "    <tr>\n",
       "      <th>min</th>\n",
       "      <td>1996.0</td>\n",
       "      <td>32.0</td>\n",
       "      <td>1.0</td>\n",
       "      <td>20.0</td>\n",
       "    </tr>\n",
       "    <tr>\n",
       "      <th>25%</th>\n",
       "      <td>2011.0</td>\n",
       "      <td>224.8</td>\n",
       "      <td>4.1</td>\n",
       "      <td>227.8</td>\n",
       "    </tr>\n",
       "    <tr>\n",
       "      <th>50%</th>\n",
       "      <td>2015.0</td>\n",
       "      <td>352.5</td>\n",
       "      <td>7.0</td>\n",
       "      <td>893.0</td>\n",
       "    </tr>\n",
       "    <tr>\n",
       "      <th>75%</th>\n",
       "      <td>2016.0</td>\n",
       "      <td>524.0</td>\n",
       "      <td>13.7</td>\n",
       "      <td>3557.2</td>\n",
       "    </tr>\n",
       "    <tr>\n",
       "      <th>max</th>\n",
       "      <td>2019.0</td>\n",
       "      <td>1740.0</td>\n",
       "      <td>1011.0</td>\n",
       "      <td>76201.0</td>\n",
       "    </tr>\n",
       "  </tbody>\n",
       "</table>\n",
       "</div>"
      ],
      "text/plain": [
       "         Year  Number.Pages  Number.Fsize  Number.Downloads\n",
       "count   508.0         508.0         508.0             508.0\n",
       "mean   2013.4         419.3          53.4            4350.7\n",
       "std       4.0         294.2         166.3            9279.7\n",
       "min    1996.0          32.0           1.0              20.0\n",
       "25%    2011.0         224.8           4.1             227.8\n",
       "50%    2015.0         352.5           7.0             893.0\n",
       "75%    2016.0         524.0          13.7            3557.2\n",
       "max    2019.0        1740.0        1011.0           76201.0"
      ]
     },
     "execution_count": 5,
     "metadata": {},
     "output_type": "execute_result"
    }
   ],
   "source": [
    "round(data.describe(),1)"
   ]
  },
  {
   "cell_type": "code",
   "execution_count": 6,
   "id": "2e94994c",
   "metadata": {},
   "outputs": [
    {
     "data": {
      "image/png": "[encoded data removed]",
      "text/plain": [
       "<Figure size 432x288 with 1 Axes>"
      ]
     },
     "metadata": {
      "needs_background": "light"
     },
     "output_type": "display_data"
    }
   ],
   "source": [
    "plt.boxplot(data[\"Number.Downloads\"], vert=False),\n",
    "plt.title(\"Number of Downloads\");"
   ]
  },
  {
   "cell_type": "code",
   "execution_count": 7,
   "id": "fa0a2757",
   "metadata": {},
   "outputs": [
    {
     "name": "stdout",
     "output_type": "stream",
     "text": [
      "The Most Downloaded Book is \n",
      " Book Name           python python\n",
      "Number.Downloads            76201\n",
      "dtype: object\n"
     ]
    }
   ],
   "source": [
    "print(\"The Most Downloaded Book is \\n\",data[[\"Book Name\",\"Number.Downloads\"]].max())"
   ]
  },
  {
   "cell_type": "code",
   "execution_count": 8,
   "id": "409aab2d",
   "metadata": {},
   "outputs": [
    {
     "name": "stdout",
     "output_type": "stream",
     "text": [
      "The Least Downloaded Book is \n",
      " Book Name            Foundations of Programming Languages\n",
      "Number.Downloads                                       20\n",
      "dtype: object\n"
     ]
    }
   ],
   "source": [
    "print(\"The Least Downloaded Book is \\n\",data[[\"Book Name\",\"Number.Downloads\"]].min())"
   ]
  },
  {
   "cell_type": "code",
   "execution_count": 9,
   "id": "04efdbc8",
   "metadata": {},
   "outputs": [
    {
     "data": {
      "text/html": [
       "<div>\n",
       "<style scoped>\n",
       "    .dataframe tbody tr th:only-of-type {\n",
       "        vertical-align: middle;\n",
       "    }\n",
       "\n",
       "    .dataframe tbody tr th {\n",
       "        vertical-align: top;\n",
       "    }\n",
       "\n",
       "    .dataframe thead th {\n",
       "        text-align: right;\n",
       "    }\n",
       "</style>\n",
       "<table border=\"1\" class=\"dataframe\">\n",
       "  <thead>\n",
       "    <tr style=\"text-align: right;\">\n",
       "      <th></th>\n",
       "      <th>Year</th>\n",
       "      <th>Number.Pages</th>\n",
       "      <th>Number.Fsize</th>\n",
       "      <th>Number.Downloads</th>\n",
       "    </tr>\n",
       "  </thead>\n",
       "  <tbody>\n",
       "    <tr>\n",
       "      <th>count</th>\n",
       "      <td>330.00</td>\n",
       "      <td>330.00</td>\n",
       "      <td>330.00</td>\n",
       "      <td>330.00</td>\n",
       "    </tr>\n",
       "    <tr>\n",
       "      <th>mean</th>\n",
       "      <td>2013.17</td>\n",
       "      <td>402.55</td>\n",
       "      <td>47.63</td>\n",
       "      <td>975.93</td>\n",
       "    </tr>\n",
       "    <tr>\n",
       "      <th>std</th>\n",
       "      <td>3.88</td>\n",
       "      <td>266.91</td>\n",
       "      <td>154.92</td>\n",
       "      <td>919.88</td>\n",
       "    </tr>\n",
       "    <tr>\n",
       "      <th>min</th>\n",
       "      <td>1999.00</td>\n",
       "      <td>32.00</td>\n",
       "      <td>1.04</td>\n",
       "      <td>80.00</td>\n",
       "    </tr>\n",
       "    <tr>\n",
       "      <th>25%</th>\n",
       "      <td>2010.25</td>\n",
       "      <td>220.00</td>\n",
       "      <td>4.08</td>\n",
       "      <td>252.25</td>\n",
       "    </tr>\n",
       "    <tr>\n",
       "      <th>50%</th>\n",
       "      <td>2014.00</td>\n",
       "      <td>349.00</td>\n",
       "      <td>6.89</td>\n",
       "      <td>611.00</td>\n",
       "    </tr>\n",
       "    <tr>\n",
       "      <th>75%</th>\n",
       "      <td>2016.00</td>\n",
       "      <td>522.75</td>\n",
       "      <td>13.39</td>\n",
       "      <td>1441.50</td>\n",
       "    </tr>\n",
       "    <tr>\n",
       "      <th>max</th>\n",
       "      <td>2019.00</td>\n",
       "      <td>1628.00</td>\n",
       "      <td>1011.00</td>\n",
       "      <td>3533.00</td>\n",
       "    </tr>\n",
       "  </tbody>\n",
       "</table>\n",
       "</div>"
      ],
      "text/plain": [
       "          Year  Number.Pages  Number.Fsize  Number.Downloads\n",
       "count   330.00        330.00        330.00            330.00\n",
       "mean   2013.17        402.55         47.63            975.93\n",
       "std       3.88        266.91        154.92            919.88\n",
       "min    1999.00         32.00          1.04             80.00\n",
       "25%    2010.25        220.00          4.08            252.25\n",
       "50%    2014.00        349.00          6.89            611.00\n",
       "75%    2016.00        522.75         13.39           1441.50\n",
       "max    2019.00       1628.00       1011.00           3533.00"
      ]
     },
     "execution_count": 9,
     "metadata": {},
     "output_type": "execute_result"
    }
   ],
   "source": [
    "low, high =data[\"Number.Downloads\"].quantile([0.1,0.75])\n",
    "\n",
    "mask_downloads=data[\"Number.Downloads\"].between(low,high)\n",
    "data=data[mask_downloads]\n",
    "round(data.describe(),2)"
   ]
  },
  {
   "cell_type": "code",
   "execution_count": 10,
   "id": "889563ba",
   "metadata": {},
   "outputs": [
    {
     "data": {
      "image/png": "[encoded data removed]",
      "text/plain": [
       "<Figure size 432x288 with 1 Axes>"
      ]
     },
     "metadata": {
      "needs_background": "light"
     },
     "output_type": "display_data"
    }
   ],
   "source": [
    "plt.boxplot(data[\"Number.Downloads\"], vert=False),\n",
    "plt.title(\"Number of Downloads\");"
   ]
  },
  {
   "cell_type": "code",
   "execution_count": 11,
   "id": "04742789",
   "metadata": {},
   "outputs": [
    {
     "data": {
      "image/png": "[encoded data removed]",
      "text/plain": [
       "<Figure size 432x288 with 1 Axes>"
      ]
     },
     "metadata": {
      "needs_background": "light"
     },
     "output_type": "display_data"
    }
   ],
   "source": [
    "#Relationship between File Size and Number of Downloads\n",
    "plt.scatter(data[\"Number.Fsize\"],data[\"Number.Downloads\"]),\n",
    "plt.title(\"File Size vs Number of Downloads\"),\n",
    "plt.xlabel(\"File Size (MB)\"),\n",
    "plt.ylabel(\"Number of Downloads\");"
   ]
  },
  {
   "cell_type": "code",
   "execution_count": 12,
   "id": "388fe8d7",
   "metadata": {},
   "outputs": [
    {
     "data": {
      "image/png": "[encoded data removed]",
      "text/plain": [
       "<Figure size 432x288 with 1 Axes>"
      ]
     },
     "metadata": {
      "needs_background": "light"
     },
     "output_type": "display_data"
    }
   ],
   "source": [
    "#Relationship between Number of Downloads and Year of Publication\n",
    "plt.bar(\n",
    "    data[\"Year\"],data[\"Number.Downloads\"]),\n",
    "plt.title(\"Year vs Number of Downloads\"),\n",
    "plt.xlabel(\"Year\"),\n",
    "plt.ylabel(\"Number of Downloads\");\n"
   ]
  },
  {
   "cell_type": "code",
   "execution_count": 13,
   "id": "01509c83",
   "metadata": {},
   "outputs": [
    {
     "name": "stdout",
     "output_type": "stream",
     "text": [
      "<class 'pandas.core.frame.DataFrame'>\n",
      "Int64Index: 330 entries, 24 to 535\n",
      "Data columns (total 8 columns):\n",
      " #   Column            Non-Null Count  Dtype  \n",
      "---  ------            --------------  -----  \n",
      " 0   Book Name         330 non-null    object \n",
      " 1   Year              330 non-null    int32  \n",
      " 2   Number.Pages      330 non-null    int32  \n",
      " 3   Pages             330 non-null    object \n",
      " 4   Number.Fsize      330 non-null    float64\n",
      " 5   File Size         330 non-null    object \n",
      " 6   Number.Downloads  330 non-null    int32  \n",
      " 7   Downloads         330 non-null    object \n",
      "dtypes: float64(1), int32(3), object(4)\n",
      "memory usage: 19.3+ KB\n"
     ]
    }
   ],
   "source": [
    "#Logistic regression\n",
    "\n",
    "data.info()"
   ]
  },
  {
   "cell_type": "code",
   "execution_count": null,
   "id": "b3be6324",
   "metadata": {},
   "outputs": [],
   "source": []
  }
 ],
 "metadata": {
  "kernelspec": {
   "display_name": "Python 3 (ipykernel)",
   "language": "python",
   "name": "python3"
  },
  "language_info": {
   "codemirror_mode": {
    "name": "ipython",
    "version": 3
   },
   "file_extension": ".py",
   "mimetype": "text/x-python",
   "name": "python",
   "nbconvert_exporter": "python",
   "pygments_lexer": "ipython3",
   "version": "3.9.7"
  }
 },
 "nbformat": 4,
 "nbformat_minor": 5
}
