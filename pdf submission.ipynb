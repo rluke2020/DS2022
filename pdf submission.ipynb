{
 "cells": [
  {
   "cell_type": "markdown",
   "id": "f80e5e72",
   "metadata": {},
   "source": [
    "# Web Scrapping Classwork\n",
    "\n",
    "The purpose is to scrap all the pages returned with the entered keyword on pdfdrive  \n",
    "\n",
    "Richard Luke, 2022/06/05"
   ]
  },
  {
   "cell_type": "code",
   "execution_count": 1,
   "id": "3f289e11",
   "metadata": {},
   "outputs": [],
   "source": [
    "#importing libraries to use for scrapping\n",
    "import requests\n",
    "from bs4 import BeautifulSoup\n",
    "from time import sleep\n",
    "import pandas as pd\n",
    "import matplotlib.pyplot as plt\n",
    "%matplotlib inline\n",
    "\n",
    "#for ML\n",
    "from sklearn import preprocessing\n",
    "from sklearn.linear_model import LogisticRegression\n",
    "from sklearn.model_selection import train_test_split"
   ]
  },
  {
   "cell_type": "code",
   "execution_count": null,
   "id": "54ee010b",
   "metadata": {},
   "outputs": [
    {
     "name": "stdout",
     "output_type": "stream",
     "text": [
      "Enter the Book Category to Search : data science\n"
     ]
    }
   ],
   "source": [
    "#function to start a search\n",
    "search=input(\"Enter the Book Category to Search : \")\n",
    "def load(search,number):\n",
    "    try:\n",
    "        # + str(page_num)\n",
    "        URL = f\"https://www.pdfdrive.com/search?q={search}&page={number}\"\n",
    "    except:\n",
    "        print(\"SORRY! Category not found.\")\n",
    "    page = requests.get(URL)\n",
    "    soup = BeautifulSoup(page.content, \"html.parser\")\n",
    "\n",
    "    return soup\n",
    "\n",
    "def getdata():\n",
    "    titles = []\n",
    "    pages = []\n",
    "    year = []\n",
    "    size = []\n",
    "    downloads = []\n",
    "    \n",
    "    try:\n",
    "        for result in soup.find_all('div', attrs={'class': 'file-right'}):\n",
    "            title = result.find(\"h2\").text\n",
    "            titles.append(title)\n",
    "\n",
    "        for pag in soup.find_all('div', attrs={'class': 'file-info'}):\n",
    "            page = pag.find(\"span\", class_=\"fi-pagecount\").text\n",
    "            years = pag.find(\"span\", class_=\"fi-year\").text\n",
    "            file_size = pag.find(\"span\", class_=\"fi-size hidemobile\").text\n",
    "            down = pag.find(\"span\", class_=\"fi-hit\").text\n",
    "            pages.append(page)\n",
    "            year.append(years)\n",
    "            size.append(file_size)\n",
    "            downloads.append(down)\n",
    "\n",
    "        my_scrapper = {\"Book Name\": titles,\n",
    "                    \"No of Pages\": pages,\n",
    "                    \"Year\": year,\n",
    "                     \"FILE SIZE (MB)\": size,\n",
    "                     \"DOWNLOADS (Count)\": downloads\n",
    "                    }\n",
    "        df = pd.DataFrame(my_scrapper)\n",
    "        df.to_csv('/Users/Richard/Downloads/PDFdrive list.csv', mode='a', header=False,index=False)\n",
    "        return df\n",
    "    except:\n",
    "        print(\"Failed to append\")\n",
    "\n",
    "\n",
    "def appenddata(df):\n",
    "    try:\n",
    "              # split \n",
    "        df[[\"Number.Pages\", \"Pages\"]]=df[\"No of Pages\"].str.split(expand=True)\n",
    "        df[[\"Number.Fsize\", \"File Size\"]]=df[\"FILE SIZE (MB)\"].str.split(expand=True)\n",
    "        df[[\"Number.Downloads\", \"Downloads\"]]=df[\"DOWNLOADS (Count)\"].str.split(expand=True)\n",
    "        # prepare string data type for conversion to int\n",
    "        df['Number.Downloads']=df['Number.Downloads'].str.replace(',','')\n",
    "        df[\"Number.Pages\"]=df[\"Number.Pages\"].str.replace(',','')\n",
    "        # drop\n",
    "        del df[\"No of Pages\"]\n",
    "        del df[\"FILE SIZE (MB)\"]\n",
    "        del df[\"DOWNLOADS (Count)\"]\n",
    "\n",
    "        #save\n",
    "        df.to_csv('/Users/Richard/Downloads/PDFdrive cleaned list.csv',mode='a', index=False)\n",
    "\n",
    "    except:\n",
    "        print('Search returned nothing!')\n",
    "        \n",
    "    return df\n",
    "\n",
    "def cleandata():\n",
    "    data=pd.read_csv('/Users/Richard/Downloads/PDFdrive cleaned list.csv')\n",
    "    #remove strings\n",
    "    try:\n",
    "         data = data[data[\"Number.Fsize\"].str.contains(\"Pages|Number.Downloads|Number.Fsize\") == False]\n",
    "    except:\n",
    "        pass\n",
    "    # change data type\n",
    "    data[\"Number.Pages\"]=data[\"Number.Pages\"].astype(str).astype(int)\n",
    "    data[\"Year\"]=data[\"Year\"].astype(str).astype(int)\n",
    "    data['Number.Downloads']=data['Number.Downloads'].astype(str).astype(int)\n",
    "    data[\"Number.Fsize\"]=data[\"Number.Fsize\"].astype(str).astype(float)\n",
    "    #save to df\n",
    "    return data\n",
    "\n",
    "while True:\n",
    "    number=1\n",
    "    soup=load(search,str(number))\n",
    "    sleep(15)\n",
    "    df=getdata()\n",
    "    sleep(15)\n",
    "    df=appenddata(df)\n",
    "    number=number+1\n",
    "    #sleep(15)"
   ]
  },
  {
   "cell_type": "code",
   "execution_count": null,
   "id": "f897a8d0",
   "metadata": {},
   "outputs": [],
   "source": [
    "data=cleandata()\n",
    "data.head()"
   ]
  },
  {
   "cell_type": "code",
   "execution_count": null,
   "id": "44d5edb5",
   "metadata": {},
   "outputs": [],
   "source": [
    "data.info()"
   ]
  },
  {
   "cell_type": "code",
   "execution_count": null,
   "id": "ef474b3f",
   "metadata": {},
   "outputs": [],
   "source": [
    "round(data.describe(),1)"
   ]
  },
  {
   "cell_type": "code",
   "execution_count": null,
   "id": "2e94994c",
   "metadata": {},
   "outputs": [],
   "source": [
    "plt.boxplot(data[\"Number.Downloads\"], vert=False),\n",
    "plt.title(\"Number of Downloads\");"
   ]
  },
  {
   "cell_type": "code",
   "execution_count": null,
   "id": "4c3dc4bc",
   "metadata": {},
   "outputs": [],
   "source": [
    "plt.boxplot(data[\"Number.Pages\"], vert=False),\n",
    "plt.title(\"Number of Pages\");"
   ]
  },
  {
   "cell_type": "code",
   "execution_count": null,
   "id": "04efdbc8",
   "metadata": {},
   "outputs": [],
   "source": [
    "low, high =data[\"Number.Downloads\"].quantile([0.1,0.75])\n",
    "\n",
    "mask_downloads=data[\"Number.Downloads\"].between(low,high)\n",
    "data=data[mask_downloads]\n",
    "round(data.describe(),2)"
   ]
  },
  {
   "cell_type": "code",
   "execution_count": null,
   "id": "d879a96f",
   "metadata": {},
   "outputs": [],
   "source": [
    "plt.hist(data[\"Number.Downloads\"]);\n",
    "\n",
    "#round(df[\"Number.Downloads\"].quantile([0.1,0.75]).describe(),2)"
   ]
  },
  {
   "cell_type": "code",
   "execution_count": null,
   "id": "b4cabcb8",
   "metadata": {},
   "outputs": [],
   "source": [
    "plt.scatter(data[\"Number.Pages\"],data[\"Number.Downloads\"]),\n",
    "plt.title(\"Book Size vs Number of Downloads\"),\n",
    "plt.xlabel(\"Number of Pages\"),\n",
    "plt.ylabel(\"Number of Downloads\");"
   ]
  },
  {
   "cell_type": "code",
   "execution_count": null,
   "id": "04742789",
   "metadata": {},
   "outputs": [],
   "source": [
    "#Relationship between File Size and Number of Downloads\n",
    "plt.scatter(data[\"Number.Fsize\"],data[\"Number.Downloads\"]),\n",
    "plt.title(\"File Size vs Number of Downloads\"),\n",
    "plt.xlabel(\"File Size (MB)\"),\n",
    "plt.ylabel(\"Number of Downloads\");"
   ]
  },
  {
   "cell_type": "code",
   "execution_count": null,
   "id": "388fe8d7",
   "metadata": {},
   "outputs": [],
   "source": [
    "#Relationship between Number of Downloads and Year of Publication\n",
    "plt.bar(\n",
    "    data[\"Year\"],data[\"Number.Downloads\"]),\n",
    "plt.title(\"Year vs Number of Downloads\"),\n",
    "plt.xlabel(\"Year\"),\n",
    "plt.ylabel(\"Number of Downloads\");\n"
   ]
  },
  {
   "cell_type": "code",
   "execution_count": null,
   "id": "b8d2c1d0",
   "metadata": {},
   "outputs": [],
   "source": [
    "print(\"The Most Downloaded Book is \\n\",data[\"Book Name\"].max())"
   ]
  },
  {
   "cell_type": "code",
   "execution_count": null,
   "id": "2acbb16d",
   "metadata": {},
   "outputs": [],
   "source": [
    "print(\"The Least Downloaded Book is \\n\",data[\"Book Name\"].min())"
   ]
  },
  {
   "cell_type": "code",
   "execution_count": null,
   "id": "01509c83",
   "metadata": {},
   "outputs": [],
   "source": [
    "#Logistic regression\n",
    "\n",
    "data.info()"
   ]
  },
  {
   "cell_type": "code",
   "execution_count": null,
   "id": "b3be6324",
   "metadata": {},
   "outputs": [],
   "source": []
  }
 ],
 "metadata": {
  "kernelspec": {
   "display_name": "Python 3 (ipykernel)",
   "language": "python",
   "name": "python3"
  },
  "language_info": {
   "codemirror_mode": {
    "name": "ipython",
    "version": 3
   },
   "file_extension": ".py",
   "mimetype": "text/x-python",
   "name": "python",
   "nbconvert_exporter": "python",
   "pygments_lexer": "ipython3",
   "version": "3.9.7"
  }
 },
 "nbformat": 4,
 "nbformat_minor": 5
}
